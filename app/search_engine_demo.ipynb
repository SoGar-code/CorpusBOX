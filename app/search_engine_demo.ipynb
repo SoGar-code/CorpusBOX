{
 "cells": [
  {
   "cell_type": "markdown",
   "id": "b1d9f155-269b-4b20-9bd2-2960ba75489b",
   "metadata": {},
   "source": [
    "# Demo of the search engine"
   ]
  },
  {
   "cell_type": "code",
   "execution_count": 1,
   "id": "25018df5-6e60-410d-9afa-f621d70746f6",
   "metadata": {},
   "outputs": [],
   "source": [
    "%load_ext autoreload\n",
    "%autoreload 2"
   ]
  },
  {
   "cell_type": "markdown",
   "id": "7bcf17b4-f695-4fa9-bcae-1f44849c637c",
   "metadata": {},
   "source": [
    "## Initialisation"
   ]
  },
  {
   "cell_type": "code",
   "execution_count": 2,
   "id": "940a8642-0434-47eb-b78f-10ff6cb365d7",
   "metadata": {},
   "outputs": [],
   "source": [
    "from search_setting import get_initialize_search_engine"
   ]
  },
  {
   "cell_type": "code",
   "execution_count": 3,
   "id": "58c1b885-ac8e-4af4-9f73-895e82ffa680",
   "metadata": {},
   "outputs": [
    {
     "name": "stderr",
     "output_type": "stream",
     "text": [
      "/usr/local/lib/python3.10/site-packages/torch/_utils.py:831: UserWarning: TypedStorage is deprecated. It will be removed in the future and UntypedStorage will be the only storage class. This should only matter to you if you are using storages directly.  To access UntypedStorage directly, use tensor.untyped_storage() instead of tensor.storage()\n",
      "  return self.fget.__get__(instance, owner)()\n"
     ]
    }
   ],
   "source": [
    "search_engine = get_initialize_search_engine()"
   ]
  },
  {
   "cell_type": "code",
   "execution_count": 4,
   "id": "9b6ac617-6bcd-44c8-829e-506a0e034a27",
   "metadata": {},
   "outputs": [],
   "source": [
    "from search_setting import get_answers"
   ]
  },
  {
   "cell_type": "code",
   "execution_count": 5,
   "id": "0eec8ace-a39b-46cb-b422-d276de10888d",
   "metadata": {},
   "outputs": [
    {
     "name": "stdout",
     "output_type": "stream",
     "text": [
      "Help on function get_answers in module search_setting:\n",
      "\n",
      "get_answers(engine, question, nbr_answers=5)\n",
      "    Given a question and a search engine, print associated answers\n",
      "    \n",
      "    Args:\n",
      "        * engine: search engine to use\n",
      "        * question: string containing the question to anwser\n",
      "        * nbr_answers (int, optional): maximum number of answers to print (max=20)\n",
      "\n"
     ]
    }
   ],
   "source": [
    "help(get_answers)"
   ]
  },
  {
   "cell_type": "markdown",
   "id": "e9da7c1b-0e12-4ad7-9638-7f2dfc00e33e",
   "metadata": {},
   "source": [
    "## First question"
   ]
  },
  {
   "cell_type": "code",
   "execution_count": 6,
   "id": "2780bd7f-33cb-481b-801a-b75f95b3fa9a",
   "metadata": {},
   "outputs": [
    {
     "data": {
      "application/vnd.jupyter.widget-view+json": {
       "model_id": "85bd1ba3c117423988fee8dd86b3337c",
       "version_major": 2,
       "version_minor": 0
      },
      "text/plain": [
       "Batches:   0%|          | 0/1 [00:00<?, ?it/s]"
      ]
     },
     "metadata": {},
     "output_type": "display_data"
    },
    {
     "name": "stdout",
     "output_type": "stream",
     "text": [
      "0 PEKIN\n",
      "\n",
      "1 RAMBLES IN PEKIN\n",
      "\n",
      "2 ON COLUMN IN SOUTHERN CHINA\n",
      "\n",
      "3 [Illustration: A STREET IN THE CHINESE CITY, PEKIN]\n",
      "\n",
      "4   A STREET IN THE CHINESE CITY, PEKIN                      72\n",
      "\n"
     ]
    }
   ],
   "source": [
    "get_answers(search_engine, \"Pekin\")"
   ]
  },
  {
   "cell_type": "code",
   "execution_count": 7,
   "id": "535b0a8d-b0f6-4b78-b87f-bb425cc52062",
   "metadata": {},
   "outputs": [
    {
     "data": {
      "application/vnd.jupyter.widget-view+json": {
       "model_id": "a31ba422118b4612a5ceef7fbc15f24a",
       "version_major": 2,
       "version_minor": 0
      },
      "text/plain": [
       "Batches:   0%|          | 0/1 [00:00<?, ?it/s]"
      ]
     },
     "metadata": {},
     "output_type": "display_data"
    },
    {
     "name": "stdout",
     "output_type": "stream",
     "text": [
      "0 PEKIN\n",
      "\n",
      "1 RAMBLES IN PEKIN\n",
      "\n",
      "2 ON COLUMN IN SOUTHERN CHINA\n",
      "\n",
      "3 [Illustration: A STREET IN THE CHINESE CITY, PEKIN]\n",
      "\n",
      "4   A STREET IN THE CHINESE CITY, PEKIN                      72\n",
      "\n",
      "5 CHINA—PAST, PRESENT, FUTURE\n",
      "\n",
      "6   Tong‐shan, 137\n",
      "\n",
      "7 A TRIP TO SHANHAIKWAN\n",
      "\n",
      "8 CHINA—PAST, PRESENT, AND FUTURE\n",
      "\n",
      "9 FROM WEI‐HAI‐WEI TO TIENTSIN\n",
      "\n",
      "10   PLAN OF PEKIN                                           xvi\n",
      "\n",
      "11   Harem, Emperor’s, in Pekin, 90\n",
      "\n",
      "12 Cette prise fut envoyée sous bonne escorte à Pékin.\n",
      "\n",
      "13   Rue du General Voyron, Pekin, 97\n",
      "\n",
      "14   Coal Hill, Pekin, 74\n",
      "\n"
     ]
    }
   ],
   "source": [
    "get_answers(search_engine, \"Pekin\", nbr_answers=15)"
   ]
  },
  {
   "cell_type": "markdown",
   "id": "ae631a14-5162-4d73-a624-af5426c5282b",
   "metadata": {},
   "source": [
    "## Question: interpreters"
   ]
  },
  {
   "cell_type": "code",
   "execution_count": 8,
   "id": "b19df04f-4461-471c-a3e6-dbce5811f398",
   "metadata": {},
   "outputs": [
    {
     "data": {
      "application/vnd.jupyter.widget-view+json": {
       "model_id": "ec71d879b6774ab0a7fd77e828513af6",
       "version_major": 2,
       "version_minor": 0
      },
      "text/plain": [
       "Batches:   0%|          | 0/1 [00:00<?, ?it/s]"
      ]
     },
     "metadata": {},
     "output_type": "display_data"
    },
    {
     "name": "stdout",
     "output_type": "stream",
     "text": [
      "0 Language: English\n",
      "\n",
      "1   Language, difference in Chinese languages in various provinces, 283;\n",
      "    polyglot, 20;\n",
      "    British officers as interpreters, 19\n",
      "\n",
      "2 As Grant‐Smith was ignorant of Hindustani and the Indian of English, I\n",
      "was forced to act as interpreter.\n",
      "\n",
      "3 Accompanied by Captain Woolley, I.M.S., I set out to visit the\n",
      "town, having received many injunctions to be careful not to embroil\n",
      "ourselves with the inhabitants or the soldiery, who were not likely\n",
      "to prove over friendly. We were provided with interpreters in the\n",
      "persons of a Chinese policeman in British employ and a Sikh constable\n",
      "who had learned to converse very well in the language of the country.\n",
      "As we intended to make a formal call on the mandarin in command of\n",
      "Samchun and had heard that in China a man’s importance is gauged\n",
      "by the size of his visiting‐card, we wrote our names on sheets of\n",
      "foolscap—the largest pieces of paper we could find. Red, however, is\n",
      "the proper colour. In mufti and taking no weapons, we left the camp\n",
      "and crossed the river in a small, flat‐bottomed ferry‐boat. Landed on\n",
      "the far side, we set off along the tops of the mud banks between the\n",
      "paddy‐fields, the only roads available. Those which are used as general\n",
      "paths are laid with flat stones, which, not being fastened in any\n",
      "way, occasionally tilt up and slide about in a disconcerting manner.\n",
      "As we neared the town we were observed with interest by a number of\n",
      "Chinese soldiers lounging about in front of the principal gateway. We\n",
      "felt a little nervous as to our reception but putting a bold face on\n",
      "the matter directed our way towards them. We were stopped, however,\n",
      "by our Chinese policeman, who told us that we should not approach\n",
      "this entrance as it faced the mandarin’s Yamen and was reserved for\n",
      "important individuals. We being _merely_ foreigners—this although\n",
      "he was in British employment!—must seek admittance through the back\n",
      "gate into the town. Irritated at his insolent tone, the Sikh constable\n",
      "shoved him aside, and we approached the guard. The soldiers, though not\n",
      "openly hostile—for the white tents of our camp, plainly visible across\n",
      "the river, had a sobering effect—treated us with scarcely‐veiled\n",
      "contempt. On our Sikh interpreter informing them that we were English\n",
      "officers who had come to visit their mandarin, they airily replied\n",
      "that that dignitary was asleep and could not see us. Annoyed at\n",
      "their impertinent manner, we ordered them to go and wake him. Rather\n",
      "impressed by our audacity, they held a consultation. Then one went\n",
      "into the Yamen. He returned in a few minutes with a message to the\n",
      "effect that the mandarin regretted that he could not see us as he was\n",
      "not dressed. Seeing the effect of our previous curtness, we haughtily\n",
      "bade the soldier tell the mandarin to put on his clothes at once; see\n",
      "him we must. Visibly impressed this time, he hastened inside again and\n",
      "promptly returned with an invitation to enter the Yamen. We passed\n",
      "through the gate with as important an air as we could assume. It had\n",
      "been a game of bluff on both sides and we had won; for on the verandah\n",
      "of the house inside the entrance we were received by the mandarin,\n",
      "correctly attired. With hands folded over each other, he bowed low\n",
      "and led the way into the interior. The room was small and plainly\n",
      "furnished. High‐backed, uncomfortable chairs stood round a square\n",
      "blackwood table. On the walls hung crude pictures or tablets painted\n",
      "with Chinese characters. Our host, who was really a most courteous old\n",
      "gentleman, bowed again and, pointing to the chairs, begged us—as we\n",
      "judged from his manner—to be seated. We politely refused until he had\n",
      "taken a chair himself. He then addressed us in sing‐song Chinese words,\n",
      "which our Sikh interpreter assured us were an expression of the honour\n",
      "he felt at our condescending to visit such an unworthy individual. We\n",
      "framed our reply in equally humble terms. He then inquired the reason\n",
      "of the coming of our force to the frontier. We informed him that it\n",
      "was merely to guard our territory from invasion and assured him that\n",
      "we had no evil designs on Samchun. He pretended to feel satisfied at\n",
      "this, but doubt evidently still lingered in his mind. The conversation\n",
      "then dragged on spasmodically until we asked his permission to visit\n",
      "the town. He seemed to hail our request with relief as a chance of\n",
      "politely ridding himself of us and ordered four soldiers to get ready\n",
      "to accompany us as an escort. One of the attendants, at a sign from\n",
      "him, then left the room and returned with three little cups covered\n",
      "with brass saucers.\n",
      "\n",
      "4 \n",
      "Transcriber’s Note.\n",
      "\n",
      "5 On the platform of the railway station almost the first friendly face\n",
      "we saw was that of perhaps the best‐known man in North China, Major\n",
      "Whittal, Hyderabad Contingent. Interpreter in Russian, fluent in French\n",
      "and German, his linguistic abilities had been responsible for his\n",
      "appointment to the scarcely enviable post of Railway Staff Officer at\n",
      "Tientsin. In a town that held the headquarters of every foreign army,\n",
      "where troops and stores of all kinds were despatched or arrived daily\n",
      "in charge of representatives of the different forces, such a position\n",
      "required the possession of a genius for organisation and infinite\n",
      "tact and patience. Even as we greeted him, French, Russian, or German\n",
      "officers and soldiers crowded round, to harry him with questions in\n",
      "divers tongues or propound problems as to the departure of troop trains\n",
      "or the disposal of waggons loaded with supplies for their respective\n",
      "armies. The Britisher is usually supposed to be the least versed of\n",
      "any in foreign languages. But the Continental officers were very much\n",
      "surprised to find how many linguists we boasted in our expeditionary\n",
      "force. At every important railway station we had a staff officer who\n",
      "was an interpreter in one or more European languages. There were many\n",
      "who had passed examinations in Chinese. A French major remarked to me\n",
      "one day: “_Voilà, monsieur_, we have always thought that an Englishman\n",
      "knows no tongue but his own. Yet we find but few of your officers who\n",
      "cannot converse with us in ours. Not all well, certainly; but, on the\n",
      "other hand, how many of us can talk with you in English? Scarcely any.\n",
      "And many of you speak Russian, German, or Italian.” It was not the only\n",
      "surprising fact they learned about the hitherto despised Anglo‐Indian\n",
      "army.\n",
      "\n",
      "6 \n",
      "CONTENTS\n",
      "\n",
      "7 However, as my unfortunate friend required me as interpreter, I had no\n",
      "intention of abandoning him, and accompanied him when he was marched\n",
      "off to durance vile. The Portuguese policeman at first wished to send\n",
      "him under the charge of the Chinese constable, whom he woke up for the\n",
      "purpose; but we explained that if such an indignity were offered us we\n",
      "would certainly refuse to go quietly with the Chinaman and might damage\n",
      "him on the way. He then allowed the Indian sepoys, who were very civil,\n",
      "to escort us. My luckless companion was then solemnly marched through\n",
      "the town until the Head Police Office was reached, over two miles away.\n",
      "It was a rambling structure in the heart of the city, with ancient\n",
      "buildings and tree‐shaded courts. Down long corridors and across a\n",
      "grass‐grown yard we were led into a large office. A half‐open door in\n",
      "a partition on the left bore the inscription, “Quarto del Sargento.”\n",
      "On the right, behind a large screen, a number of Portuguese policemen\n",
      "lay asleep on beds. The sepoys roused a sergeant, who sat up grumbling\n",
      "and surveyed us with little friendliness. The scene was rather amusing.\n",
      "My friend and I in correct evening dress, as haughtily indignant as\n",
      "Britishers should be under such circumstances, the Indian sepoys\n",
      "standing erect behind us, the surly complainant, whom the light of the\n",
      "office lamps revealed to be a very shoddy and common individual, the\n",
      "half‐awakened policemen gazing sleepily at us from their beds, would\n",
      "have made a capital tableau in a comedy. The sergeant rose and put\n",
      "on his uniform. Seating himself at a table in the office he read the\n",
      "charge. Without further ado he ordered a bed to be brought down and\n",
      "placed for the prisoner in the empty “Quarto del Sargento.” He then\n",
      "rose from the table and prepared to retire. I stopped him and demanded\n",
      "that our explanation should be listened to. I told him, through the\n",
      "interpreters, that if the ridiculous charge against my friend was\n",
      "to be proceeded with, he could be found at the hotel. There was no\n",
      "necessity for confining him for the night, as he could not leave\n",
      "Macao without the knowledge of the authorities. The sergeant curtly\n",
      "replied that as there was no complaint against me I had better quit\n",
      "the police‐station as soon as possible. If I wished to give evidence\n",
      "for my friend, I could attend at the magistrate’s court in the morning\n",
      "and do so. I informed him that I was an officer in the British Army,\n",
      "and demanded to see a Portuguese officer. He replied that he was a\n",
      "sergeant, and quite officer enough for me. His manner throughout was\n",
      "excessively overbearing and offensive. I then threatened to appeal to\n",
      "the British Consul. I am afraid that this only amused the Portuguese\n",
      "policemen, who had left their beds to come into the office and listen\n",
      "to the affair. They laughed amusedly; and the sergeant, smiling grimly,\n",
      "bade the interpreting sepoy tell me that he did not care a snap of\n",
      "his fingers for our Consul. I then played my trump card. I demanded\n",
      "that a message should be immediately conveyed to the aide‐de‐camp\n",
      "of the Governor, to the effect that one of his English friends with\n",
      "whom he had dined the previous night had been arrested. The effect\n",
      "was electrical. As soon as my speech had been translated to them, all\n",
      "the Portuguese policemen became at once extremely civil. The sergeant\n",
      "rushed to a telephone and rang up the police officer on duty. I caught\n",
      "the words “ufficiales Inglesos” and “amigos del Senhor Carvalhaes.”\n",
      "After a long conversation over the wire he returned smiling civilly,\n",
      "saluted, and said that my companion could leave the station at once.\n",
      "Would he have the supreme kindness to attend at the magistrate’s court\n",
      "at ten o’clock in the morning? If he did not know where it was, a\n",
      "constable would be sent to the hotel to guide him.\n",
      "\n",
      "8 Le 9 octobre, laissant un bataillon à Lou-Kou-Kiao, nous avançâmes jusqu’à Liou-Li-Ho, localité très importante, située sur la rivière du même nom, que les Allemands avaient également bombardée. Dès notre arrivée, on nous signala la présence d’un fort détachement de Chinois, des réguliers disait-on, qui étaient chargés par Li-Hung-Tchang de la répression du mouvement boxer. Notre colonel se tenait néanmoins sur ses gardes et faisait surveiller étroitement cette troupe. Ma compagnie fut envoyée sur le flanc droit de la colonne, avec mission de requérir des voitures, mulets, bœufs et porteurs. Vers midi, nous atteignîmes une localité entourée d’un mur formidable. C’était le premier village entièrement habité que je voyais sur le territoire du Petchili. A la porte d’entrée, nous fûmes reçus par les autorités chinoises en tenue de cérémonie. Les visages exprimaient la peur, mais conservaient le sourire aux lèvres. Ce sourire grimaçant, faux et traître des Chinois, combien de fois ne m’a-t-il pas exaspéré ? Nous avions fait à Quang-Tchéou-Wan l’expérience des fourberies qu’il peut dissimuler. Quoi d’ailleurs de plus significatif que ce proverbe, courant dans le Céleste Empire et qu’un mandarin m’a cité : « En regardant la bouche qui sourit, on n’aperçoit pas le rasoir qui tranche ! »\n",
      "\n",
      "9 A Tcho-Tchéou, on ne savait pas ce qui se passait en dehors de notre colonne. Après une entrevue avec le colonel, nous repartîmes pour les Tombeaux. A Laï-Su-Sien, nous fûmes reçus avec les mêmes cérémonies qu'à l'aller. A I-Tchéou, nous rencontrâmes les Allemands qui portaient des casques coloniaux à un moment où le thermomètre descendait à vingt-deux degrés au-dessous de zéro. Cette coiffure hors de saison me parut quelque peu ridicule. Les Français étaient partout bien accueillis, tandis que les Allemands inspiraient la peur. Les Chinois disaient que les *Fagoa* (Français) sont bons et que les *Togoa* (Allemands) sont méchants. Il est d'ailleurs probable qu'en présence des Allemands ils disaient le contraire. Le Chinois n'en est pas à une ruse près ! N'avais-je pas vu, précisément à I-Tchéou, lorsqu'un détachement français passait, le préfet faire hisser notre drapeau. Dans la même journée, passait un détachement allemand ; alors, le drapeau français disparaissait comme par enchantement, pour céder la place au drapeau allemand. Et à Taï-Ling, j'ai trouvé sous le lit du fils du chef du village des drapeaux de toutes les nations présentes en Chine. Ils étaient soigneusement roulés dans du papier de soie, avec une inscription sur chaque enveloppe. Aussi suis-je bien affermi dans cette opinion : « Ne nous fions pas aux Chinois ! »\n",
      "\n"
     ]
    }
   ],
   "source": [
    "get_answers(search_engine, \"interpreters\", nbr_answers=10)"
   ]
  },
  {
   "cell_type": "markdown",
   "id": "39d981f6-f0a2-4d04-b56a-3677fb34968c",
   "metadata": {},
   "source": [
    "## Question: language"
   ]
  },
  {
   "cell_type": "code",
   "execution_count": 9,
   "id": "49940bf3-a770-4c6d-8abd-3be631c6db58",
   "metadata": {},
   "outputs": [
    {
     "data": {
      "application/vnd.jupyter.widget-view+json": {
       "model_id": "e636d814970648f3ba8ab41d76ef4af8",
       "version_major": 2,
       "version_minor": 0
      },
      "text/plain": [
       "Batches:   0%|          | 0/1 [00:00<?, ?it/s]"
      ]
     },
     "metadata": {},
     "output_type": "display_data"
    },
    {
     "name": "stdout",
     "output_type": "stream",
     "text": [
      "0 Language: English\n",
      "\n",
      "1   Language, difference in Chinese languages in various provinces, 283;\n",
      "    polyglot, 20;\n",
      "    British officers as interpreters, 19\n",
      "\n",
      "2   English Legation at Pekin, 78\n",
      "\n",
      "3 On the platform of the railway station almost the first friendly face\n",
      "we saw was that of perhaps the best‐known man in North China, Major\n",
      "Whittal, Hyderabad Contingent. Interpreter in Russian, fluent in French\n",
      "and German, his linguistic abilities had been responsible for his\n",
      "appointment to the scarcely enviable post of Railway Staff Officer at\n",
      "Tientsin. In a town that held the headquarters of every foreign army,\n",
      "where troops and stores of all kinds were despatched or arrived daily\n",
      "in charge of representatives of the different forces, such a position\n",
      "required the possession of a genius for organisation and infinite\n",
      "tact and patience. Even as we greeted him, French, Russian, or German\n",
      "officers and soldiers crowded round, to harry him with questions in\n",
      "divers tongues or propound problems as to the departure of troop trains\n",
      "or the disposal of waggons loaded with supplies for their respective\n",
      "armies. The Britisher is usually supposed to be the least versed of\n",
      "any in foreign languages. But the Continental officers were very much\n",
      "surprised to find how many linguists we boasted in our expeditionary\n",
      "force. At every important railway station we had a staff officer who\n",
      "was an interpreter in one or more European languages. There were many\n",
      "who had passed examinations in Chinese. A French major remarked to me\n",
      "one day: “_Voilà, monsieur_, we have always thought that an Englishman\n",
      "knows no tongue but his own. Yet we find but few of your officers who\n",
      "cannot converse with us in ours. Not all well, certainly; but, on the\n",
      "other hand, how many of us can talk with you in English? Scarcely any.\n",
      "And many of you speak Russian, German, or Italian.” It was not the only\n",
      "surprising fact they learned about the hitherto despised Anglo‐Indian\n",
      "army.\n",
      "\n",
      "4 L’armée japonaise a été instruite en premier lieu par des Français, à compter de 1871. En outre, en 1879, le Japon a fait appel dans le même but à des officiers allemands. Ceux qui ont vu l’armée japonaise à l’œuvre s’accordent à dire qu’elle peut parfaitement être comparée avec les troupes européennes. La langue anglaise y est de beaucoup la plus répandue ; toutefois la langue française et la langue allemande y sont également très étudiées. A l’École de guerre, un Français et un Allemand d’origine assistés de quelques Japonais enseignent ces deux langues. Enfin, j’ai rencontré plusieurs officiers japonais polyglottes, qui s’exprimaient avec une égale facilité dans toutes les langues européennes qu’on parlait autour d’eux.\n",
      "\n",
      "5 A Tcho-Tchéou, on ne savait pas ce qui se passait en dehors de notre colonne. Après une entrevue avec le colonel, nous repartîmes pour les Tombeaux. A Laï-Su-Sien, nous fûmes reçus avec les mêmes cérémonies qu'à l'aller. A I-Tchéou, nous rencontrâmes les Allemands qui portaient des casques coloniaux à un moment où le thermomètre descendait à vingt-deux degrés au-dessous de zéro. Cette coiffure hors de saison me parut quelque peu ridicule. Les Français étaient partout bien accueillis, tandis que les Allemands inspiraient la peur. Les Chinois disaient que les *Fagoa* (Français) sont bons et que les *Togoa* (Allemands) sont méchants. Il est d'ailleurs probable qu'en présence des Allemands ils disaient le contraire. Le Chinois n'en est pas à une ruse près ! N'avais-je pas vu, précisément à I-Tchéou, lorsqu'un détachement français passait, le préfet faire hisser notre drapeau. Dans la même journée, passait un détachement allemand ; alors, le drapeau français disparaissait comme par enchantement, pour céder la place au drapeau allemand. Et à Taï-Ling, j'ai trouvé sous le lit du fils du chef du village des drapeaux de toutes les nations présentes en Chine. Ils étaient soigneusement roulés dans du papier de soie, avec une inscription sur chaque enveloppe. Aussi suis-je bien affermi dans cette opinion : « Ne nous fions pas aux Chinois ! »\n",
      "\n",
      "6 “Yes,” added another, “we have naturally been accustomed to regard\n",
      "our own country as the greatest in the world. But outside it we found\n",
      "our language useless. Yours is universal. I had said to myself that\n",
      "Port Said, at least, is not British; but there, too, your tongue is\n",
      "the chief medium of intercourse. Here in China, even the coolies speak\n",
      "English, or what they intend to be English.”\n",
      "\n",
      "7 Il me confia son histoire depuis sa sortie du régiment. Etant d'abord sans argent et sans situation, il s'était adressé à la Maison du Soldat pour obtenir un emploi qui ne vint pas ; il avait connu alors la misère des grandes villes jusqu'au jour où l'un de ses anciens chefs réussit à le placer comme surveillant dans une usine. À cette occasion, je me demande si le soldat colonial français est moins digne d’intérêt que le soldat anglais et hollandais. Voyons en effet la différence de traitement. En Angleterre comme en Hollande, il a été créé, en grande partie par des dames de la plus haute aristocratie, des sociétés qui ont pour but d’habiller, de nourrir et de loger les soldats libérés de l’armée coloniale jusqu’à ce qu’elles lui aient procuré une place. Or, les soldats coloniaux de ces deux pays sont-ils plus méritants que les nôtres ? Ayant marché et combattu côte à côte avec les camarades des autres nations, je réponds avec conviction : non ! D’autre part, est-on moins généreux, moins humain en France que partout ailleurs ? Assurément non. Mais, ce qui nous distingue malheureusement des pays que je viens de citer, c’est qu’en Angleterre et en Hollande, tout le monde sans exception, depuis le multi-millionnaire jusqu’au dernier ouvrier de fabrique, est parfaitement au courant de ce qui se passe dans les colonies. En France, au contraire, on sait plus ou moins que les colonies existent. Dans la masse du peuple, elles apparaissent comme des pays vagues, situés on ne sait trop où et incapables de rien produire — quelques arpents de neige — disait-on dédaigneusement en parlant du Canada. Aussi tout le monde se désintéresse-t-il de nos colonies. Qu’elles prospèrent, qu’elles périclitent, qu’on s’apprête même à nous les ravir, peu importe ! Et, chose caractéristique, les hauts fonctionnaires du *département*, comme on dit, ne se *départent* presque jamais de leur siège directorial pour aller visiter nos colonies. Leur grandeur les attache au rivage ; ils sont fidèles à la formule : administrer de Paris, à coups de circulaires et de câblogrammes ! Pour conclure, je suis persuadé qu’on ferait autant en France pour les soldats coloniaux que dans les puissances que je viens de citer, si l’on savait ce que les campagnes dans les pays lointains et encore à demi barbares représentent de fatigues, de souffrances et de privations.\n",
      "\n",
      "8 \n",
      "Tientsin is but a stepping‐stone to Pekin—one a mere modern growth,\n",
      "important only in view of the European commercial interests that have\n",
      "made it what it is; the other a fabled city weird, mysterious. The\n",
      "slowly‐beating heart of the vast feeble Colossus, that may be pierced\n",
      "and yet no agony, thrills through the distant members. Pekin, the\n",
      "object of the veneration of every Chinaman the world over. Pekin, which\n",
      "enshrines the most sacred temples of the land, within whose famous\n",
      "walls lies the marvellous Forbidden City, the very name of which is\n",
      "redolent of mystery; around it history and fable gather and scarce may\n",
      "be distinguished, so incredible the truth, so conceivable the wildest\n",
      "conjecture. The Mecca to which turn the thoughts of every Celestial.\n",
      "The home of the sacred, almost legendary, Emperor, whose word is law\n",
      "to the uttermost confines of the land, and yet whose person is not\n",
      "inviolate against palace intrigue; omnipotent in theory, powerless in\n",
      "reality, a ruler only in name. Worshipped by millions of his subjects,\n",
      "yet despised by the least among the mandarins of his court. The\n",
      "meanest eunuch in the Purple City is not more helpless than the monarch\n",
      "who boasts the proud title of Son of Heaven.\n",
      "\n",
      "9 Le 9 octobre, laissant un bataillon à Lou-Kou-Kiao, nous avançâmes jusqu’à Liou-Li-Ho, localité très importante, située sur la rivière du même nom, que les Allemands avaient également bombardée. Dès notre arrivée, on nous signala la présence d’un fort détachement de Chinois, des réguliers disait-on, qui étaient chargés par Li-Hung-Tchang de la répression du mouvement boxer. Notre colonel se tenait néanmoins sur ses gardes et faisait surveiller étroitement cette troupe. Ma compagnie fut envoyée sur le flanc droit de la colonne, avec mission de requérir des voitures, mulets, bœufs et porteurs. Vers midi, nous atteignîmes une localité entourée d’un mur formidable. C’était le premier village entièrement habité que je voyais sur le territoire du Petchili. A la porte d’entrée, nous fûmes reçus par les autorités chinoises en tenue de cérémonie. Les visages exprimaient la peur, mais conservaient le sourire aux lèvres. Ce sourire grimaçant, faux et traître des Chinois, combien de fois ne m’a-t-il pas exaspéré ? Nous avions fait à Quang-Tchéou-Wan l’expérience des fourberies qu’il peut dissimuler. Quoi d’ailleurs de plus significatif que ce proverbe, courant dans le Céleste Empire et qu’un mandarin m’a cité : « En regardant la bouche qui sourit, on n’aperçoit pas le rasoir qui tranche ! »\n",
      "\n"
     ]
    }
   ],
   "source": [
    "get_answers(search_engine, \"language\", nbr_answers=10)"
   ]
  },
  {
   "cell_type": "markdown",
   "id": "00816393-bde8-49c3-bf03-71c40dfaa532",
   "metadata": {},
   "source": [
    "## Question: nationalities"
   ]
  },
  {
   "cell_type": "code",
   "execution_count": 10,
   "id": "3d8fac34-0f50-421f-ab6d-e2a4045cbde4",
   "metadata": {},
   "outputs": [
    {
     "data": {
      "application/vnd.jupyter.widget-view+json": {
       "model_id": "29139200a01f4eb9a7554bbd35c23a82",
       "version_major": 2,
       "version_minor": 0
      },
      "text/plain": [
       "Batches:   0%|          | 0/1 [00:00<?, ?it/s]"
      ]
     },
     "metadata": {},
     "output_type": "display_data"
    },
    {
     "name": "stdout",
     "output_type": "stream",
     "text": [
      "0   Army, American, 50;\n",
      "    Chinese in the past, 280;\n",
      "    of the future, 298;\n",
      "    Dutch, 54;\n",
      "    French, 42;\n",
      "    German, 34;\n",
      "    Indian, 55;\n",
      "    Japanese, 47;\n",
      "    Russian, 44;\n",
      "    Italian, 54\n",
      "\n",
      "1   Patriotism, want of, 281;\n",
      "    of India, 282\n",
      "\n",
      "2   Want of patriotism among the Chinese, 281\n",
      "\n",
      "3   Language, difference in Chinese languages in various provinces, 283;\n",
      "    polyglot, 20;\n",
      "    British officers as interpreters, 19\n",
      "\n",
      "4 The European‐born Portuguese in the colony are few and consist chiefly\n",
      "of the Government officials and their families and the troops. They\n",
      "look down upon the Macaese—as the colonials are called—with the\n",
      "supreme contempt of the pure‐blooded white man for the half‐caste. For,\n",
      "judging from their complexions and features, few of the Macaese are of\n",
      "unmixed descent. So the Portuguese from Europe keep rigidly aloof from\n",
      "them and unbend only to the few British and Americans resident in the\n",
      "colony. These are warmly welcomed in Macao society and freely admitted\n",
      "into the exclusive official circles.\n",
      "\n",
      "5 To prate of the patriotism of the Chinese is as though one spoke of\n",
      "the “patriotism of India.” Still, the latter is a favourite phrase\n",
      "of some of our ignorant politicians who pose as the champions of\n",
      "“the down‐trodden black brother.” They talk of India being made\n",
      "self‐governing and wish to fill its Civil Service with “enlightened\n",
      "natives.” They fail to see why a Calcutta Babu or a Bombay Parsee, who\n",
      "boasts a university degree and has passed a brilliant examination,\n",
      "should not be set to rule over a Punjaub district or to deal with the\n",
      "unruly Pathans on the frontier. They do not realise that Englishmen\n",
      "would sooner submit to be governed by the knout of a Russian official\n",
      "than the haughty Sikh or fierce Pathan would endure the sway of men\n",
      "they regard as lower than dogs. Our Indian Empire is composed of a\n",
      "hundred warring nations, all different in speech, in blood, almost\n",
      "in religions. We, the dominant race, hold them all in the _Pax\n",
      "Britannica_, and keep them from each other’s throats.\n",
      "\n",
      "6   EUROPEAN CONCESSIONS, TIENTSIN, AND THE PEIHO RIVER      17\n",
      "\n",
      "7   Infanterie Coloniale, 42\n",
      "\n",
      "8 En premier lieu viennent les lettrés et mandarins de tous ordres. Seuls appartiennent à cette classe les Chinois pourvus de certains titres qui correspondent assez bien à ceux de nos bacheliers, licenciés et docteurs, mais avec cette différence pourtant qu'en France chacun peut obtenir ces diplômes en justifiant de certaines connaissances, alors qu'en Chine on ne les confère qu'au concours et en nombre très restreint, eu égard au chiffre des candidats. D'où ces concours de lettrés, qui tiennent une si grande place dans la vie de l'Extrême-Orient et qui ont lieu non seulement en Chine, mais aussi dans notre Indo-Chine française.\n",
      "\n",
      "9   Sepoys, opinion of foreign contingents, 61, 164;\n",
      "    loyalty of, 62\n",
      "\n"
     ]
    }
   ],
   "source": [
    "get_answers(search_engine, \"nationalities\", nbr_answers=10)"
   ]
  },
  {
   "cell_type": "markdown",
   "id": "fe4ab3c9-f95e-4368-88d3-6ea78d2df946",
   "metadata": {},
   "source": [
    "## Question: bank of the river"
   ]
  },
  {
   "cell_type": "code",
   "execution_count": 11,
   "id": "b6691814-2df0-4066-a5e6-219f620c24bc",
   "metadata": {},
   "outputs": [
    {
     "data": {
      "application/vnd.jupyter.widget-view+json": {
       "model_id": "3c0dc0b5d1e64e95b811a63a389a4515",
       "version_major": 2,
       "version_minor": 0
      },
      "text/plain": [
       "Batches:   0%|          | 0/1 [00:00<?, ?it/s]"
      ]
     },
     "metadata": {},
     "output_type": "display_data"
    },
    {
     "name": "stdout",
     "output_type": "stream",
     "text": [
      "0   West River, 276\n",
      "\n",
      "1 [Illustration: EUROPEAN CONCESSIONS, TIENTSIN, AND THE PEIHO RIVER]\n",
      "\n",
      "2   EUROPEAN CONCESSIONS, TIENTSIN, AND THE PEIHO RIVER      17\n",
      "\n",
      "3   Pearl River, 236, 261\n",
      "\n",
      "4   Bridge of boats at Tientsin, 19\n",
      "\n",
      "5   Peiho River, 9, 19\n",
      "\n",
      "6 At the polo ground the city ends at present; though every day its\n",
      "limits are extending. From here the road runs along close to the sea,\n",
      "protected from the waves by a wall, and clinging to the flanks of\n",
      "the hills. It passes an occasional row of Chinese‐occupied houses,\n",
      "a lone hotel or two, the site of the immense new docks in process\n",
      "of construction, large sugar works, with a colony of houses for its\n",
      "employees, and an overhead wire tramway leading to their sanatorium\n",
      "on the high peak above, until it reaches the Lyeemoon Pass. Here the\n",
      "hills narrow in and press down to the sea, thrusting themselves forward\n",
      "to meet the hills of the mainland on the other side. A strait, only\n",
      "a quarter of a mile broad, separates them; and here on either hand,\n",
      "high above the water, stand modern and well‐armed forts, which, with a\n",
      "Brennan torpedo, effectually close the narrow entrance of the harbour\n",
      "to any hostile ships that venture to force a passage.\n",
      "\n",
      "7 Along the coast we steam, gazing at its interminable masses of green\n",
      "hills, until it suddenly recedes into a wide bay surrounded on every\n",
      "side by high land. This is Deep Bay, an expanse twenty‐five miles in\n",
      "extent which, though now covered by the sea, becomes at low tide one\n",
      "vast mud flat, with a small stream winding through the noisome ooze.\n",
      "Towards the land on the right we head. Far out from shore lies a trim,\n",
      "white gunboat. From the stern floats the yellow Imperial standard of\n",
      "China with its sprawling dragon; for the vessel belongs to the Maritime\n",
      "Customs Service. On the decks brass machine‐guns glitter. A European in\n",
      "white clothing watches us through binoculars from the poop. The Chinese\n",
      "crew in blue uniforms, with pigtails coiled up under their straw hats,\n",
      "are spreading an awning.\n",
      "\n",
      "8 The _Heungshan_ cast off from the crowded, bustling wharf and threaded\n",
      "her way out of Hong Kong harbour between the numerous merchant ships\n",
      "lying at anchor. In between Lantau and the mainland we steamed over the\n",
      "placid water of what seemed an inland lake. The shallow sea is here so\n",
      "covered with islands that it is generally as smooth as a mill‐pond.\n",
      "Past stately moving junks and fussy little steam launches we held our\n",
      "way. Islands and mainland rising in green hills from the water’s edge\n",
      "hemmed in the narrow channel. In about two and a half hours we sighted\n",
      "Macao. We saw ahead of us a low eminence covered with the buildings of\n",
      "a European‐looking town. Behind it rose a range of bleak mountains.\n",
      "We passed along by a gently curving bay lined with houses and fringed\n",
      "with trees, rounded a cape, and entered the natural harbour which\n",
      "lies between low hills. It was crowded with junks and sampans. In the\n",
      "middle lay a trim Portuguese gunboat, the _Zaire_, three‐masted, with\n",
      "white superstructure and funnel and black hull. The small Canton‐Macao\n",
      "steamer was moored to the wharf.\n",
      "\n",
      "9 One of the former Empresses, whose life had been passed far from\n",
      "the sea, complained that she had never beheld a ship. So a cunning\n",
      "architect was found, who built in the lake close to the bank an\n",
      "enormous marble junk. The hull, which has ornamented prow and stern\n",
      "and small paddle‐boxes, rests, of course, on the bottom. On the deck\n",
      "he erected a large two‐storied pavilion; but as the Chinese are seldom\n",
      "thorough, this he constructed of wood painted to look like marble. It\n",
      "formed an ideal and picturesque summer‐house, for the sides, between\n",
      "the pillars, were open or closed only by blinds. But at the time of our\n",
      "visit it looked dismally dilapidated; for the paint was blistered and\n",
      "peeling off. The Marble Junk resembles a white house‐boat at Henley,\n",
      "and at a little distance across the water looks quaint and graceful.\n",
      "Close to it, spanning a small stream that runs into the lake, is a\n",
      "lovely little covered bridge with carved white marble arches and\n",
      "parapets. Venice can boast no more perfect gem of art on its canals.\n",
      "\n"
     ]
    }
   ],
   "source": [
    "get_answers(search_engine, \"bank of the river\", nbr_answers=10)"
   ]
  },
  {
   "cell_type": "markdown",
   "id": "3d46e12f-31bd-46d5-ac3a-a1e9e1386111",
   "metadata": {},
   "source": [
    "## Question: river bank"
   ]
  },
  {
   "cell_type": "code",
   "execution_count": 12,
   "id": "3b9f078b-11c4-4ccd-ad94-b6a8720a64d0",
   "metadata": {},
   "outputs": [
    {
     "data": {
      "application/vnd.jupyter.widget-view+json": {
       "model_id": "ced30d104a454c3bb355681d5d7f5ee3",
       "version_major": 2,
       "version_minor": 0
      },
      "text/plain": [
       "Batches:   0%|          | 0/1 [00:00<?, ?it/s]"
      ]
     },
     "metadata": {},
     "output_type": "display_data"
    },
    {
     "name": "stdout",
     "output_type": "stream",
     "text": [
      "0   West River, 276\n",
      "\n",
      "1   Peiho River, 9, 19\n",
      "\n",
      "2   Pearl River, 236, 261\n",
      "\n",
      "3 [Illustration: EUROPEAN CONCESSIONS, TIENTSIN, AND THE PEIHO RIVER]\n",
      "\n",
      "4   EUROPEAN CONCESSIONS, TIENTSIN, AND THE PEIHO RIVER      17\n",
      "\n",
      "5   Bridge of boats at Tientsin, 19\n",
      "\n",
      "6 At the polo ground the city ends at present; though every day its\n",
      "limits are extending. From here the road runs along close to the sea,\n",
      "protected from the waves by a wall, and clinging to the flanks of\n",
      "the hills. It passes an occasional row of Chinese‐occupied houses,\n",
      "a lone hotel or two, the site of the immense new docks in process\n",
      "of construction, large sugar works, with a colony of houses for its\n",
      "employees, and an overhead wire tramway leading to their sanatorium\n",
      "on the high peak above, until it reaches the Lyeemoon Pass. Here the\n",
      "hills narrow in and press down to the sea, thrusting themselves forward\n",
      "to meet the hills of the mainland on the other side. A strait, only\n",
      "a quarter of a mile broad, separates them; and here on either hand,\n",
      "high above the water, stand modern and well‐armed forts, which, with a\n",
      "Brennan torpedo, effectually close the narrow entrance of the harbour\n",
      "to any hostile ships that venture to force a passage.\n",
      "\n",
      "7 Winding inlets and long, narrow bays run far into the land on both\n",
      "sides and considerably diminish the space at the disposal of the\n",
      "cultivator. Occasionally narrow creeks are dammed by the villagers, and\n",
      "the ground is roughly reclaimed. The supply of fresh water is limited\n",
      "to the rainfall and the small streams that run down the hillsides. The\n",
      "presence of mineral wealth is unsuspected and unlikely. Altogether the\n",
      "Hinterland is poor and unproductive. Efforts are being made to develop\n",
      "its scanty resources; and if cattle, wheat, and vegetables could be\n",
      "raised, a ready market would be found for them in Hong Kong.\n",
      "\n",
      "8 Along the coast we steam, gazing at its interminable masses of green\n",
      "hills, until it suddenly recedes into a wide bay surrounded on every\n",
      "side by high land. This is Deep Bay, an expanse twenty‐five miles in\n",
      "extent which, though now covered by the sea, becomes at low tide one\n",
      "vast mud flat, with a small stream winding through the noisome ooze.\n",
      "Towards the land on the right we head. Far out from shore lies a trim,\n",
      "white gunboat. From the stern floats the yellow Imperial standard of\n",
      "China with its sprawling dragon; for the vessel belongs to the Maritime\n",
      "Customs Service. On the decks brass machine‐guns glitter. A European in\n",
      "white clothing watches us through binoculars from the poop. The Chinese\n",
      "crew in blue uniforms, with pigtails coiled up under their straw hats,\n",
      "are spreading an awning.\n",
      "\n",
      "9 For some distance alongside the railway runs a canal, which is\n",
      "largely used by the Chinese for transporting grain and merchandise.\n",
      "As our train rattled along, we passed numbers of long, shallow boats,\n",
      "fashioned like dug‐outs and loaded down until the gunwale was scarcely\n",
      "a few inches from the water. The half‐naked boatmen toiling at their\n",
      "oars paused to gaze with envy at the swift‐speeding iron horse, which\n",
      "covered the weary miles with such apparent ease.\n",
      "\n"
     ]
    }
   ],
   "source": [
    "get_answers(search_engine, \"river bank\", nbr_answers=10)"
   ]
  },
  {
   "cell_type": "markdown",
   "id": "6478d728-a775-4899-b50e-b7482a32c03b",
   "metadata": {},
   "source": [
    "## Question: putting money in the bank"
   ]
  },
  {
   "cell_type": "code",
   "execution_count": 13,
   "id": "1d7b89cc-ebfa-4703-8afa-d5c7fd681467",
   "metadata": {},
   "outputs": [
    {
     "data": {
      "application/vnd.jupyter.widget-view+json": {
       "model_id": "9e82c14cee1e4f16a4e2203a2b69664c",
       "version_major": 2,
       "version_minor": 0
      },
      "text/plain": [
       "Batches:   0%|          | 0/1 [00:00<?, ?it/s]"
      ]
     },
     "metadata": {},
     "output_type": "display_data"
    },
    {
     "name": "stdout",
     "output_type": "stream",
     "text": [
      "0 Le lendemain, je rentrai à Mou-Ling en apportant le courrier de Pékin. Aux Tombeaux il était très difficile de s’approvisionner en légumes. Chaque homme versait à l’ordinaire 25 centimes par jour, ainsi que les 35 centimes d’indemnité de cherté de vivres. La compagnie possédait déjà un boni de plusieurs milliers de francs. Mais en pareil cas, qui en profite ? Jamais les hommes de l’avant ; en campagne, ils sont toujours négligés au profit de ceux qui restent dans les garnisons. Autre anomalie : les vivres dus et qu’on ne touche pas ne sont jamais remboursés. Enfin l’argent versé à l’ordinaire s’accumule et en fin de compte, lorsqu’on le dépense, ce sont les nouveaux venus qui, sans avoir rien versé, en bénéficient. Il en est de même pour les effets et chaussures qu’on laisse s’entasser en ballots au service de l’arrière et qui, dans chaque expédition, finissent par disparaître. Si encore l’État, responsable de l’ensemble, supportait la perte ! Mais non, c’est à la masse individuelle qu’on impute les effets perdus, de sorte que l’homme non seulement ne reçoit pas ce qui lui est dû, mais paie encore de son pécule les fautes lourdes ou les négligences de l’administration. De pareils errements ne sont-ils pas la négation de tout principe de justice et d’équité ?\n",
      "\n",
      "1 To return to Macao. Its greatly advertised attraction is the famous\n",
      "Chinese gambling‐houses, from the taxes on which is derived a large\n",
      "portion of the revenues of the colony. Most visitors go to see them and\n",
      "stake a dollar or two on the _fan‐tan_ tables. I did likewise and was\n",
      "disappointed to find the famed saloons merely small Chinese houses,\n",
      "the interiors glittering with tawdry gilt wood carving and blazing\n",
      "at night with evil‐smelling oil lamps. On the ground floor stands a\n",
      "large table, at the head of which sits the _croupier_, generally a\n",
      "very bored‐looking old Chinaman. Along the sides are the players,\n",
      "who occasionally lose the phlegmatic calm of their race in their\n",
      "excitement. On the “board” squares are described, numbered 1, 2, 3,\n",
      "and 4. On them the money is staked. The _croupier_ places a handful\n",
      "of “cash,” which are small coins, on the table and covers them with\n",
      "an inverted bowl. The number of them is not counted, as he takes them\n",
      "at random from a pile beside him. As soon as all the stakes are laid\n",
      "down, he lifts the bowl and with a chopstick counts the coins in\n",
      "fours. The number left at the end, which must be one, two, three, or\n",
      "four, represents the winning number. The bank pays three times the\n",
      "stake deposited, less ten per cent., which is kept as its own share\n",
      "of the winnings. In a gallery overhead sit European visitors and more\n",
      "important Chinamen who do not wish to mix with the common herd around\n",
      "the table. Their stakes are collected by an attendant who lowers them\n",
      "in a bag at the end of a long string, and the _croupier_ places them\n",
      "where desired. _Fan‐tan_ is not exciting. The counting of the coins\n",
      "is tedious and the calculations of the amounts to be paid out to the\n",
      "winners takes so long that the game becomes exceedingly wearisome.\n",
      "\n",
      "2 Please check the Project Gutenberg web pages for current donation\n",
      "methods and addresses. Donations are accepted in a number of other\n",
      "ways including checks, online payments and credit card donations. To\n",
      "donate, please visit: www.gutenberg.org/donate.\n",
      "\n",
      "3 \n",
      "PREFACE\n",
      "\n",
      "4 Project Gutenberg™ depends upon and cannot survive without widespread\n",
      "public support and donations to carry out its mission of\n",
      "increasing the number of public domain and licensed works that can be\n",
      "freely distributed in machine-readable form accessible by the widest\n",
      "array of equipment including outdated equipment. Many small donations\n",
      "($1 to $5,000) are particularly important to maintaining tax exempt\n",
      "status with the IRS.\n",
      "\n",
      "5 \n",
      "Transcriber’s Note.\n",
      "\n",
      "6 A week or two after this false alarm, I obtained permission to cross\n",
      "into Chinese territory and visit Samchun. The town looked very\n",
      "interesting at a distance, with its high walls and two square stone\n",
      "towers, which were in reality pawn‐shops. For these establishments in\n",
      "China are looked upon as safe deposit offices. A rich man about to\n",
      "leave home for any length of time removes his valuables to the nearest\n",
      "pawn‐shop and there stores them. They are the first places attacked\n",
      "when a band of robbers seizes some small town, as frequently happens.\n",
      "So they are built in the form of strong towers with the entrance\n",
      "generally several feet from the ground, in order that the proprietor\n",
      "and his friends may retire within and defend them.\n",
      "\n",
      "7 And true Oriental haughty indifference marked the demeanour of these\n",
      "cheapjacks when we searched among their curious wares for souvenirs of\n",
      "Pekin. They evinced not the least anxiety for us to buy, although they\n",
      "knew that the lowest price that they would extract from us was sure to\n",
      "be much more than they could obtain from a Chinese purchaser. Their\n",
      "demands were exorbitant for the commonest, most worthless article; and\n",
      "they showed no regret if we turned away exasperated at their rapacity.\n",
      "One asked me fifteen dollars for a thing which he gave eventually,\n",
      "after hard bargaining, for one, and then probably made a profit of\n",
      "fifty cents over it.\n",
      "\n",
      "8 So much for the China of the present. What of the future? She is now\n",
      "fettered by the shackles of blind ignorance, by the prejudices and\n",
      "retrogressive spirit of the tyrannical Manchu oligarchy who rule\n",
      "the land. Her strength is sapped by the poison of corruption. The\n",
      "officials, almost to a man, are mercenary and self‐seeking. Extortion\n",
      "and dishonesty are found in every class. Suppose a tax is laid upon\n",
      "a certain province. The Viceroy orders the mandarins to collect it\n",
      "from their districts. They send forth their myrmidons to wring it\n",
      "from the people, by threats and torture if need be. Enough must be\n",
      "raised to satisfy the many vultures through whose claws it will pass\n",
      "before it reaches Pekin. Twice, three times the amount of the sum\n",
      "asked for originally must be gathered from the unfortunate taxpayers,\n",
      "in order that each official through whose hands it goes on its way to\n",
      "the Imperial Treasury may have his share of the spoil. And how is all\n",
      "the money raised in the vast Empire spent? Not on the needs of the\n",
      "land, certainly. Few roads or bridges exist. They have mostly been\n",
      "constructed by charity. The railways—and there are not many—were\n",
      "built by foreign capital.\n",
      "\n",
      "9 \n",
      "CONTENTS\n",
      "\n"
     ]
    }
   ],
   "source": [
    "get_answers(search_engine, \"putting money in the bank\", nbr_answers=10)"
   ]
  },
  {
   "cell_type": "markdown",
   "id": "9eadfdd3-872f-40bf-9e32-9ce8f9b547ca",
   "metadata": {},
   "source": [
    "## Question: siege train"
   ]
  },
  {
   "cell_type": "code",
   "execution_count": 14,
   "id": "4aef389a-3664-43be-98a0-1d0fe557337f",
   "metadata": {},
   "outputs": [
    {
     "data": {
      "application/vnd.jupyter.widget-view+json": {
       "model_id": "919de3c4d7ba435c9b14d415902733f6",
       "version_major": 2,
       "version_minor": 0
      },
      "text/plain": [
       "Batches:   0%|          | 0/1 [00:00<?, ?it/s]"
      ]
     },
     "metadata": {},
     "output_type": "display_data"
    },
    {
     "name": "stdout",
     "output_type": "stream",
     "text": [
      "0   Siege train, disappointment of British, 26\n",
      "\n",
      "1 The train ran first over wide‐stretching mud flats, then through a\n",
      "level, monotonous country, flooded or covered with high crops; and,\n",
      "barely seen above the tall vegetation, here and there roofless houses\n",
      "and ruined villages showed the track of war. At every bridge and\n",
      "culvert stood a tent with a guard of an Indian regiment, the sentry\n",
      "presenting arms as the train passed. The stations along the line were\n",
      "numerous. Over their stone buildings floated the Union Jack, for the\n",
      "railway was now in British hands. On each platform the same scene\n",
      "presented itself. The English Staff Officer in khaki and red‐banded\n",
      "forage cap; the stalwart Indian sentry; a varied mob of French and\n",
      "German soldiers, Sikhs, Mussulmans, Chinese.\n",
      "\n",
      "2 One truck with German stores had to be detached from a goods train\n",
      "and sent down one siding; the next, with French cavalry horses, sent\n",
      "down another; a Russian and an Italian officer disputed the ownership\n",
      "of a third. Lost baggage‐guards stood disconsolate or wandered round\n",
      "aimlessly until rescued by their transport officers. Detachments of\n",
      "Continental troops stood helplessly waiting for someone to conduct them\n",
      "to their proper trains. Disorder reigned supreme.\n",
      "\n",
      "3   Siege of Tientsin, 30\n",
      "\n",
      "4   Siege of the Peitan, 97\n",
      "\n",
      "5 Next day the rain still continued. Reports came in that the line was\n",
      "impassable. The station was completely isolated from the rest of the\n",
      "world. Those of my party who were living with the Gurkhas, ignorant\n",
      "of the fact that no train could start, essayed to drive down to it in\n",
      "native carts. The stream over which the friendly Chinaman had carried\n",
      "us was in flood; and as they endeavoured to cross it, horses, vehicles,\n",
      "and passengers were nearly swept away. One smaller cart with their\n",
      "luggage was carried some distance down from the ford; and kit‐bags\n",
      "and portmanteaus were only rescued with the greatest difficulty. An\n",
      "invaluable collection of films and negatives belonging to one of the\n",
      "party, who was an expert photographer, was entirely spoilt. It was a\n",
      "real loss, as they contained a complete pictorial record of North China.\n",
      "\n",
      "6 Pendant toute la journée, les troupes alliées furent en contact avec l’ennemi, mais durent ménager leurs munitions. Le feu des Chinois était si intense qu’il n’était pas possible de relever les morts et de faire des ravitaillements ; néanmoins, les soldats français restèrent parfaits de calme et de sang-froid. Le soir de cette rude journée, le bataillon du commandant Feldmann avait seize tués et cinquante-cinq blessés. Sur ces entrefaites, une compagnie japonaise avait pu se glisser dans la nuit, de maison en maison, et atteindre ainsi le pied des remparts. Elle parvint à faire sauter la porte sud ; aussitôt, les Japonais et le bataillon Feldmann s’élancèrent en avant, à la baïonnette, et pénétrèrent dans la ville murée. Les autres points de la défense tombèrent du même coup au pouvoir des alliés.\n",
      "\n",
      "7 Reaching the railway, we proceeded along it in the direction of the\n",
      "Wall. The country between it and us was flat and cultivated, though\n",
      "at its foot lay a strip of waste ground. To our left ran a rough road\n",
      "leading out, through the same gap as the line, towards some forts\n",
      "to the north. Along it, behind three sturdy little ponies harnessed\n",
      "abreast, sped a Russian _troiscka_, driven by a Cossack and containing\n",
      "two white‐coated officers.\n",
      "\n",
      "8 The fields of luxuriant, waving grain stretched away to the rim of the\n",
      "distant horizon. A trail of smoke, the tall masts of junks showed where\n",
      "the river wound in frequent bends. At length we passed the extensive\n",
      "buildings and high chimneys of the Chinese Arsenal, captured by our\n",
      "marines and held by the Russians; and above the trees towers and domes\n",
      "told that we were nearing Tientsin. Then through a gap in a big earthen\n",
      "wall that is twenty miles in circumference, past many sidings and long\n",
      "lines of iron trucks and waggons with bullet‐marked sides, eloquent of\n",
      "fierce fighting, we ran into the station.\n",
      "\n",
      "9 La résistance des Chinois était vaincue. Il restait à purger la capitale et tout le territoire du Petchili des groupes de Boxers et des réguliers débandés qui s’y cachaient. On allait utiliser pour cela le gros du corps expéditionnaire des alliés qui commençait à débarquer à Takou et à Tien-Tsin. Cette dernière ville offrait un spectacle indescriptible. Pas une seule maison n’avait été épargnée par les obus et cette grande cité qui comptait avant la guerre près d’un million d’âmes, avec des maisons construites à l’européenne, n’était plus qu’un triste amas de décombres. La gare était dans un tel état qu’il a fallu la reconstruire ; les locomotives et les wagons étaient brisés, les rails, arrachés. Ajoutez à cela des centaines de cadavres que le fleuve rejetait à la surface, gonflés comme des outres, ainsi que des corps humains mutilés qu’on trouvait presque dans chaque rue et qui dégageaient une odeur insupportable. J’en étais littéralement écœuré et tout ce que je pourrais dire à ce sujet ne donnerait qu’une faible idée de l’effroyable réalité.\n",
      "\n"
     ]
    }
   ],
   "source": [
    "get_answers(search_engine, \"siege train\", nbr_answers=10)"
   ]
  },
  {
   "cell_type": "markdown",
   "id": "755ddabc-ed19-47f4-b122-32ff3c4a2f77",
   "metadata": {},
   "source": [
    "## Comparaisons polyglottes"
   ]
  },
  {
   "cell_type": "markdown",
   "id": "a0037cb1-e2c1-4327-989c-c2c62ff506cf",
   "metadata": {},
   "source": [
    "### Rifles/fusils"
   ]
  },
  {
   "cell_type": "code",
   "execution_count": 15,
   "id": "6b730a16-76dd-4ca4-a97f-b418da39a42f",
   "metadata": {},
   "outputs": [
    {
     "data": {
      "application/vnd.jupyter.widget-view+json": {
       "model_id": "44bcd9c07dcd4ae1af92038fec2bcf14",
       "version_major": 2,
       "version_minor": 0
      },
      "text/plain": [
       "Batches:   0%|          | 0/1 [00:00<?, ?it/s]"
      ]
     },
     "metadata": {},
     "output_type": "display_data"
    },
    {
     "name": "stdout",
     "output_type": "stream",
     "text": [
      "0 When visiting the Samchun Custom House on another occasion, at a later\n",
      "period, I saw a number of small, two‐pounder rifled breechloading\n",
      "guns belonging to Admiral Ho’s force being embarked on a war‐junk.\n",
      "I examined them with interest. They were mounted on small‐wheeled\n",
      "carriages and bore the stamp of the Chinese arsenal where they had been\n",
      "made. The breech ends were square, with a falling block worked by a\n",
      "lever at the side. They were well finished; for the work turned out at\n",
      "these arsenals by native workmen, often under European supervision, is\n",
      "generally very good.\n",
      "\n",
      "1   Chinese Arsenal at Tientsin, 15;\n",
      "    guns made at, 217\n",
      "\n",
      "2 Comme armes, toutes les nations, excepté les Français et les Japonais, avaient un fusil à chargeur. Les Allemands se plaisaient à nous faire admirer leur fusil nouveau modèle 1898 avec chargeur de cinq cartouches. La principale différence avec l'ancien modèle consiste dans l'éjection du chargeur qui se fait par le haut de la culasse mobile et non plus en dessous. Mais, d'après quelques sous-officiers allemands, cette arme ne satisfaisait pas encore les officiers et un nouveau modèle était déjà à l'étude. Les Allemands étaient pourvus de deux bicyclettes par compagnie. Loin de leur servir en colonne, elles les embarrassaient plutôt, car il ne faut pas songer à circuler à bicyclette sur les routes chinoises.\n",
      "\n",
      "3   Four mountain guns and 50 men, Hong Kong and Singapore Battalion\n",
      "  Royal Artillery, under Lieutenants Saunders and Ogilvie.\n",
      "\n",
      "4   _Terrible_, H.M.S., at Shanhaikwan, 155;\n",
      "    gunners, 25\n",
      "\n",
      "5   Hong Kong and Singapore Artillery, 199\n",
      "\n",
      "6 [Footnote 5: They had only forty rifles all told.]\n",
      "\n",
      "7   Frontier Field Force, 208\n",
      "\n",
      "8 India is essentially a soldier’s country. Its army is practically\n",
      "always on a war footing, the troops near the frontier especially\n",
      "being ready to move at a few hours’ notice. The rapid despatch of\n",
      "the British contingent for Natal and the China expeditionary force\n",
      "are object‐lessons. The peace establishment of a native regiment\n",
      "is greater than the strength required for active service. Hence on\n",
      "mobilisation no reserves have to be called up to fill its ranks;\n",
      "recruits and sickly men can be left behind, and it marches with only\n",
      "fully trained and seasoned soldiers. In India vast stretches of country\n",
      "are available for manœuvres, which take place every winter on a\n",
      "scale unknown in England. Not a year passes without its little war. In\n",
      "consequence, the training of the troops is thorough and practical. The\n",
      "establishment of gun and rifle factories is all that is needed to make\n",
      "India absolutely self‐containing. It produces now all other requisites\n",
      "of war. Ammunition, clothing, and accoutrements are manufactured in\n",
      "the country, and it was able to supply, not only the needs of the\n",
      "expedition in China, but also many things required for the troops in\n",
      "South Africa.\n",
      "\n",
      "9   Maxim Gun Detachment, 22nd Bombay Infantry, under Jemadar Lalla\n",
      "  Rawat.\n",
      "\n"
     ]
    }
   ],
   "source": [
    "get_answers(search_engine, \"rifles\", nbr_answers=10)"
   ]
  },
  {
   "cell_type": "code",
   "execution_count": 16,
   "id": "8ecc3470-decb-4210-aed5-6ae145742a9b",
   "metadata": {},
   "outputs": [
    {
     "data": {
      "application/vnd.jupyter.widget-view+json": {
       "model_id": "1c7f6579c0ce42c4bf3cb46d4ee306a5",
       "version_major": 2,
       "version_minor": 0
      },
      "text/plain": [
       "Batches:   0%|          | 0/1 [00:00<?, ?it/s]"
      ]
     },
     "metadata": {},
     "output_type": "display_data"
    },
    {
     "name": "stdout",
     "output_type": "stream",
     "text": [
      "0 When visiting the Samchun Custom House on another occasion, at a later\n",
      "period, I saw a number of small, two‐pounder rifled breechloading\n",
      "guns belonging to Admiral Ho’s force being embarked on a war‐junk.\n",
      "I examined them with interest. They were mounted on small‐wheeled\n",
      "carriages and bore the stamp of the Chinese arsenal where they had been\n",
      "made. The breech ends were square, with a falling block worked by a\n",
      "lever at the side. They were well finished; for the work turned out at\n",
      "these arsenals by native workmen, often under European supervision, is\n",
      "generally very good.\n",
      "\n",
      "1   Chinese Arsenal at Tientsin, 15;\n",
      "    guns made at, 217\n",
      "\n",
      "2 Comme armes, toutes les nations, excepté les Français et les Japonais, avaient un fusil à chargeur. Les Allemands se plaisaient à nous faire admirer leur fusil nouveau modèle 1898 avec chargeur de cinq cartouches. La principale différence avec l'ancien modèle consiste dans l'éjection du chargeur qui se fait par le haut de la culasse mobile et non plus en dessous. Mais, d'après quelques sous-officiers allemands, cette arme ne satisfaisait pas encore les officiers et un nouveau modèle était déjà à l'étude. Les Allemands étaient pourvus de deux bicyclettes par compagnie. Loin de leur servir en colonne, elles les embarrassaient plutôt, car il ne faut pas songer à circuler à bicyclette sur les routes chinoises.\n",
      "\n",
      "3   _Terrible_, H.M.S., at Shanhaikwan, 155;\n",
      "    gunners, 25\n",
      "\n",
      "4   Hong Kong and Singapore Artillery, 199\n",
      "\n",
      "5   Gunboats, allied, at Taku, 9, 10;\n",
      "    at Canton, 274;\n",
      "    British fired at, 276\n",
      "\n",
      "6 [Footnote 5: They had only forty rifles all told.]\n",
      "\n",
      "7 Un ordre général défendait aux petits postes qui se trouvaient attaqués la nuit de répondre par la fusillade. Il leur recommandait de n’employer que les baïonnettes. A Pékin, le poste de la porte ouest était seul autorisé à répondre par des coups de feu. Cet ordre avait pour but d’éviter de tirer sur les Européens, fait qui s’était produit au mois de septembre.\n",
      "\n",
      "8   Von Waldersee, Count, and our Royal Horse Artillery, 68\n",
      "\n",
      "9   Four mountain guns and 50 men, Hong Kong and Singapore Battalion\n",
      "  Royal Artillery, under Lieutenants Saunders and Ogilvie.\n",
      "\n"
     ]
    }
   ],
   "source": [
    "get_answers(search_engine, \"fusil\", nbr_answers=10)"
   ]
  },
  {
   "cell_type": "code",
   "execution_count": 17,
   "id": "08b3975b-a02c-4ee9-8361-31caa184b352",
   "metadata": {},
   "outputs": [
    {
     "data": {
      "application/vnd.jupyter.widget-view+json": {
       "model_id": "6698c5e9ba424cfea37e7f12d108a992",
       "version_major": 2,
       "version_minor": 0
      },
      "text/plain": [
       "Batches:   0%|          | 0/1 [00:00<?, ?it/s]"
      ]
     },
     "metadata": {},
     "output_type": "display_data"
    },
    {
     "name": "stdout",
     "output_type": "stream",
     "text": [
      "0 When visiting the Samchun Custom House on another occasion, at a later\n",
      "period, I saw a number of small, two‐pounder rifled breechloading\n",
      "guns belonging to Admiral Ho’s force being embarked on a war‐junk.\n",
      "I examined them with interest. They were mounted on small‐wheeled\n",
      "carriages and bore the stamp of the Chinese arsenal where they had been\n",
      "made. The breech ends were square, with a falling block worked by a\n",
      "lever at the side. They were well finished; for the work turned out at\n",
      "these arsenals by native workmen, often under European supervision, is\n",
      "generally very good.\n",
      "\n",
      "1   Chinese Arsenal at Tientsin, 15;\n",
      "    guns made at, 217\n",
      "\n",
      "2   Hong Kong and Singapore Artillery, 199\n",
      "\n",
      "3 Comme armes, toutes les nations, excepté les Français et les Japonais, avaient un fusil à chargeur. Les Allemands se plaisaient à nous faire admirer leur fusil nouveau modèle 1898 avec chargeur de cinq cartouches. La principale différence avec l'ancien modèle consiste dans l'éjection du chargeur qui se fait par le haut de la culasse mobile et non plus en dessous. Mais, d'après quelques sous-officiers allemands, cette arme ne satisfaisait pas encore les officiers et un nouveau modèle était déjà à l'étude. Les Allemands étaient pourvus de deux bicyclettes par compagnie. Loin de leur servir en colonne, elles les embarrassaient plutôt, car il ne faut pas songer à circuler à bicyclette sur les routes chinoises.\n",
      "\n",
      "4   _Terrible_, H.M.S., at Shanhaikwan, 155;\n",
      "    gunners, 25\n",
      "\n",
      "5   Gunboats, allied, at Taku, 9, 10;\n",
      "    at Canton, 274;\n",
      "    British fired at, 276\n",
      "\n",
      "6 Un ordre général défendait aux petits postes qui se trouvaient attaqués la nuit de répondre par la fusillade. Il leur recommandait de n’employer que les baïonnettes. A Pékin, le poste de la porte ouest était seul autorisé à répondre par des coups de feu. Cet ordre avait pour but d’éviter de tirer sur les Européens, fait qui s’était produit au mois de septembre.\n",
      "\n",
      "7 [Footnote 5: They had only forty rifles all told.]\n",
      "\n",
      "8   Four mountain guns and 50 men, Hong Kong and Singapore Battalion\n",
      "  Royal Artillery, under Lieutenants Saunders and Ogilvie.\n",
      "\n",
      "9   Von Waldersee, Count, and our Royal Horse Artillery, 68\n",
      "\n"
     ]
    }
   ],
   "source": [
    "get_answers(search_engine, \"fusils\", nbr_answers=10)"
   ]
  },
  {
   "cell_type": "markdown",
   "id": "e80cfa04-23fb-45ef-a54a-d7e6e073b288",
   "metadata": {},
   "source": [
    "### Military uniform/uniforme militaire"
   ]
  },
  {
   "cell_type": "code",
   "execution_count": 18,
   "id": "6674dbc0-6d05-4ed3-a097-2c3e696eb8f8",
   "metadata": {},
   "outputs": [
    {
     "data": {
      "application/vnd.jupyter.widget-view+json": {
       "model_id": "f546bd51734549bb8badc9b82641dd6f",
       "version_major": 2,
       "version_minor": 0
      },
      "text/plain": [
       "Batches:   0%|          | 0/1 [00:00<?, ?it/s]"
      ]
     },
     "metadata": {},
     "output_type": "display_data"
    },
    {
     "name": "stdout",
     "output_type": "stream",
     "text": [
      "0   _Troops._\n",
      "\n",
      "1   UNITED STATES CAVALRYMAN                                 51\n",
      "\n",
      "2   Stirling, Lieut., D.S.O., 4th Punjaub Infantry, 168\n",
      "\n",
      "3 The first German troops despatched to China were curiously clothed.\n",
      "Their uniform consisted of ill‐fitting tunics and trousers made of what\n",
      "looked like coarse, bright yellow sacking, with black leather belts\n",
      "and straw hats shaped like those worn by our Colonials, the broad brim\n",
      "caught up on one side and fastened by a metal rosette of the German\n",
      "colours. Later on all were clothed in regular khaki, and wore helmets\n",
      "somewhat similar to the British pattern, but with wider brims. The\n",
      "square portion covering the back of the neck was fastened by hinges, so\n",
      "that the helmet was not tilted over the wearer’s eyes when he lay down\n",
      "to fire, which is the great disadvantage of our style of headgear. Some\n",
      "of the officers wore silver sashes and belts which looked out of place\n",
      "on khaki, the embodiment of severe simplicity in campaigning dress.\n",
      "\n",
      "4   Military College, Tientsin, 295\n",
      "\n",
      "5   Bower, Lieut.‐Col., Chinese Regiment, 296\n",
      "\n",
      "6 [Illustration: UNITED STATES CAVALRYMAN]\n",
      "\n",
      "7 [Illustration: GERMAN AND INDIAN SOLDIERS]\n",
      "\n",
      "8   Punjaub Infantry, 4th, in action with Japanese troops, 48;\n",
      "    guarding the railway, 135;\n",
      "    under Lieut. Stirling, D.S.O., 168\n",
      "\n",
      "9   _Staff Officer._\n",
      "  Lieutenant Casserly, 22nd Bombay Infantry.\n",
      "\n"
     ]
    }
   ],
   "source": [
    "get_answers(search_engine, \"military uniform\", nbr_answers=10)"
   ]
  },
  {
   "cell_type": "code",
   "execution_count": 19,
   "id": "5886dbb4-1a92-4f2e-954d-3a45208b893b",
   "metadata": {},
   "outputs": [
    {
     "data": {
      "application/vnd.jupyter.widget-view+json": {
       "model_id": "7bd89c96acc74750a9b32ff3142a2568",
       "version_major": 2,
       "version_minor": 0
      },
      "text/plain": [
       "Batches:   0%|          | 0/1 [00:00<?, ?it/s]"
      ]
     },
     "metadata": {},
     "output_type": "display_data"
    },
    {
     "name": "stdout",
     "output_type": "stream",
     "text": [
      "0   _Troops._\n",
      "\n",
      "1   Stirling, Lieut., D.S.O., 4th Punjaub Infantry, 168\n",
      "\n",
      "2 The first German troops despatched to China were curiously clothed.\n",
      "Their uniform consisted of ill‐fitting tunics and trousers made of what\n",
      "looked like coarse, bright yellow sacking, with black leather belts\n",
      "and straw hats shaped like those worn by our Colonials, the broad brim\n",
      "caught up on one side and fastened by a metal rosette of the German\n",
      "colours. Later on all were clothed in regular khaki, and wore helmets\n",
      "somewhat similar to the British pattern, but with wider brims. The\n",
      "square portion covering the back of the neck was fastened by hinges, so\n",
      "that the helmet was not tilted over the wearer’s eyes when he lay down\n",
      "to fire, which is the great disadvantage of our style of headgear. Some\n",
      "of the officers wore silver sashes and belts which looked out of place\n",
      "on khaki, the embodiment of severe simplicity in campaigning dress.\n",
      "\n",
      "3   UNITED STATES CAVALRYMAN                                 51\n",
      "\n",
      "4 \n",
      "  Quarto del Sargento, 248\n",
      "\n",
      "5   Military College, Tientsin, 295\n",
      "\n",
      "6 [Illustration: UNITED STATES CAVALRYMAN]\n",
      "\n",
      "7 [Illustration: GERMAN AND INDIAN SOLDIERS]\n",
      "\n",
      "8   Bower, Lieut.‐Col., Chinese Regiment, 296\n",
      "\n",
      "9 [Illustration: FIELD‐MARSHAL COUNT VON WALDERSEE REVIEWING THE ALLIED\n",
      "TROOPS IN PEKIN]\n",
      "\n"
     ]
    }
   ],
   "source": [
    "get_answers(search_engine, \"uniforme militaire\", nbr_answers=10)"
   ]
  },
  {
   "cell_type": "markdown",
   "id": "f64c21a6-2d79-47a8-a859-a1feaa8dd93f",
   "metadata": {},
   "source": [
    "### Sprache"
   ]
  },
  {
   "cell_type": "code",
   "execution_count": 20,
   "id": "a7253cc9-98d5-4820-9420-9fb619da762a",
   "metadata": {},
   "outputs": [
    {
     "data": {
      "application/vnd.jupyter.widget-view+json": {
       "model_id": "444973d4e6e5449684a20c2f38e98516",
       "version_major": 2,
       "version_minor": 0
      },
      "text/plain": [
       "Batches:   0%|          | 0/1 [00:00<?, ?it/s]"
      ]
     },
     "metadata": {},
     "output_type": "display_data"
    },
    {
     "name": "stdout",
     "output_type": "stream",
     "text": [
      "0 Language: English\n",
      "\n",
      "1   English Legation at Pekin, 78\n",
      "\n",
      "2   Language, difference in Chinese languages in various provinces, 283;\n",
      "    polyglot, 20;\n",
      "    British officers as interpreters, 19\n",
      "\n",
      "3 A Tcho-Tchéou, on ne savait pas ce qui se passait en dehors de notre colonne. Après une entrevue avec le colonel, nous repartîmes pour les Tombeaux. A Laï-Su-Sien, nous fûmes reçus avec les mêmes cérémonies qu'à l'aller. A I-Tchéou, nous rencontrâmes les Allemands qui portaient des casques coloniaux à un moment où le thermomètre descendait à vingt-deux degrés au-dessous de zéro. Cette coiffure hors de saison me parut quelque peu ridicule. Les Français étaient partout bien accueillis, tandis que les Allemands inspiraient la peur. Les Chinois disaient que les *Fagoa* (Français) sont bons et que les *Togoa* (Allemands) sont méchants. Il est d'ailleurs probable qu'en présence des Allemands ils disaient le contraire. Le Chinois n'en est pas à une ruse près ! N'avais-je pas vu, précisément à I-Tchéou, lorsqu'un détachement français passait, le préfet faire hisser notre drapeau. Dans la même journée, passait un détachement allemand ; alors, le drapeau français disparaissait comme par enchantement, pour céder la place au drapeau allemand. Et à Taï-Ling, j'ai trouvé sous le lit du fils du chef du village des drapeaux de toutes les nations présentes en Chine. Ils étaient soigneusement roulés dans du papier de soie, avec une inscription sur chaque enveloppe. Aussi suis-je bien affermi dans cette opinion : « Ne nous fions pas aux Chinois ! »\n",
      "\n",
      "4 On the platform of the railway station almost the first friendly face\n",
      "we saw was that of perhaps the best‐known man in North China, Major\n",
      "Whittal, Hyderabad Contingent. Interpreter in Russian, fluent in French\n",
      "and German, his linguistic abilities had been responsible for his\n",
      "appointment to the scarcely enviable post of Railway Staff Officer at\n",
      "Tientsin. In a town that held the headquarters of every foreign army,\n",
      "where troops and stores of all kinds were despatched or arrived daily\n",
      "in charge of representatives of the different forces, such a position\n",
      "required the possession of a genius for organisation and infinite\n",
      "tact and patience. Even as we greeted him, French, Russian, or German\n",
      "officers and soldiers crowded round, to harry him with questions in\n",
      "divers tongues or propound problems as to the departure of troop trains\n",
      "or the disposal of waggons loaded with supplies for their respective\n",
      "armies. The Britisher is usually supposed to be the least versed of\n",
      "any in foreign languages. But the Continental officers were very much\n",
      "surprised to find how many linguists we boasted in our expeditionary\n",
      "force. At every important railway station we had a staff officer who\n",
      "was an interpreter in one or more European languages. There were many\n",
      "who had passed examinations in Chinese. A French major remarked to me\n",
      "one day: “_Voilà, monsieur_, we have always thought that an Englishman\n",
      "knows no tongue but his own. Yet we find but few of your officers who\n",
      "cannot converse with us in ours. Not all well, certainly; but, on the\n",
      "other hand, how many of us can talk with you in English? Scarcely any.\n",
      "And many of you speak Russian, German, or Italian.” It was not the only\n",
      "surprising fact they learned about the hitherto despised Anglo‐Indian\n",
      "army.\n",
      "\n",
      "5 Il me confia son histoire depuis sa sortie du régiment. Etant d'abord sans argent et sans situation, il s'était adressé à la Maison du Soldat pour obtenir un emploi qui ne vint pas ; il avait connu alors la misère des grandes villes jusqu'au jour où l'un de ses anciens chefs réussit à le placer comme surveillant dans une usine. À cette occasion, je me demande si le soldat colonial français est moins digne d’intérêt que le soldat anglais et hollandais. Voyons en effet la différence de traitement. En Angleterre comme en Hollande, il a été créé, en grande partie par des dames de la plus haute aristocratie, des sociétés qui ont pour but d’habiller, de nourrir et de loger les soldats libérés de l’armée coloniale jusqu’à ce qu’elles lui aient procuré une place. Or, les soldats coloniaux de ces deux pays sont-ils plus méritants que les nôtres ? Ayant marché et combattu côte à côte avec les camarades des autres nations, je réponds avec conviction : non ! D’autre part, est-on moins généreux, moins humain en France que partout ailleurs ? Assurément non. Mais, ce qui nous distingue malheureusement des pays que je viens de citer, c’est qu’en Angleterre et en Hollande, tout le monde sans exception, depuis le multi-millionnaire jusqu’au dernier ouvrier de fabrique, est parfaitement au courant de ce qui se passe dans les colonies. En France, au contraire, on sait plus ou moins que les colonies existent. Dans la masse du peuple, elles apparaissent comme des pays vagues, situés on ne sait trop où et incapables de rien produire — quelques arpents de neige — disait-on dédaigneusement en parlant du Canada. Aussi tout le monde se désintéresse-t-il de nos colonies. Qu’elles prospèrent, qu’elles périclitent, qu’on s’apprête même à nous les ravir, peu importe ! Et, chose caractéristique, les hauts fonctionnaires du *département*, comme on dit, ne se *départent* presque jamais de leur siège directorial pour aller visiter nos colonies. Leur grandeur les attache au rivage ; ils sont fidèles à la formule : administrer de Paris, à coups de circulaires et de câblogrammes ! Pour conclure, je suis persuadé qu’on ferait autant en France pour les soldats coloniaux que dans les puissances que je viens de citer, si l’on savait ce que les campagnes dans les pays lointains et encore à demi barbares représentent de fatigues, de souffrances et de privations.\n",
      "\n",
      "6 Le 9 octobre, laissant un bataillon à Lou-Kou-Kiao, nous avançâmes jusqu’à Liou-Li-Ho, localité très importante, située sur la rivière du même nom, que les Allemands avaient également bombardée. Dès notre arrivée, on nous signala la présence d’un fort détachement de Chinois, des réguliers disait-on, qui étaient chargés par Li-Hung-Tchang de la répression du mouvement boxer. Notre colonel se tenait néanmoins sur ses gardes et faisait surveiller étroitement cette troupe. Ma compagnie fut envoyée sur le flanc droit de la colonne, avec mission de requérir des voitures, mulets, bœufs et porteurs. Vers midi, nous atteignîmes une localité entourée d’un mur formidable. C’était le premier village entièrement habité que je voyais sur le territoire du Petchili. A la porte d’entrée, nous fûmes reçus par les autorités chinoises en tenue de cérémonie. Les visages exprimaient la peur, mais conservaient le sourire aux lèvres. Ce sourire grimaçant, faux et traître des Chinois, combien de fois ne m’a-t-il pas exaspéré ? Nous avions fait à Quang-Tchéou-Wan l’expérience des fourberies qu’il peut dissimuler. Quoi d’ailleurs de plus significatif que ce proverbe, courant dans le Céleste Empire et qu’un mandarin m’a cité : « En regardant la bouche qui sourit, on n’aperçoit pas le rasoir qui tranche ! »\n",
      "\n",
      "7 J’ai déjà publié dans la *Revue des troupes coloniales* un récit intitulé : *Journal de marche d’un soldat colonial en Chine*[[1]](https://fr.wikisource.org/wiki/Souvenirs_de_campagne_par_le_Soldat_Silbermann/Chine#cite_note-1), pour lequel M. le ministre de la guerre a bien voulu m’honorer d’une lettre de félicitations. J’y ai indiqué la difficulté qu’on éprouve en campagne à noter, jour par jour, toutes ses impressions. Je ne suis pas le seul qui ait entrepris de retracer un tableau, pris sur le vif, de la vie du soldat colonial ; mais je crois tout au moins être un des rares qui ont eu la bonne fortune de pouvoir achever leur récit. Par suite des fatigues, des privations et des maladies, le soldat en campagne devient parfois très impressionnable ; il s’emporte facilement et le pauvre carnet contenant son journal de marche subit, dès qu’il éprouve quelques difficultés, le contre-coup de son état d’esprit. J’en ai vu qui le piétinaient ; d’autres qui le déchiraient avec colère et le jetaient dans un fossé. Ces accès, dont je pouvais fort bien être victime aussi, m’ont été épargnés ; c’est ainsi que je n’ai jamais cessé, même pendant vingt-quatre heures, de noter les événements journaliers sur mon carnet, en profitant d’une pause ou d’une grande halte, ou encore pendant la nuit à la pauvre lueur d’un bout de chandelle ou d’une petite lampe improvisée.\n",
      "\n",
      "8 \n",
      "CONTENTS\n",
      "\n",
      "9 \n",
      "Tientsin is but a stepping‐stone to Pekin—one a mere modern growth,\n",
      "important only in view of the European commercial interests that have\n",
      "made it what it is; the other a fabled city weird, mysterious. The\n",
      "slowly‐beating heart of the vast feeble Colossus, that may be pierced\n",
      "and yet no agony, thrills through the distant members. Pekin, the\n",
      "object of the veneration of every Chinaman the world over. Pekin, which\n",
      "enshrines the most sacred temples of the land, within whose famous\n",
      "walls lies the marvellous Forbidden City, the very name of which is\n",
      "redolent of mystery; around it history and fable gather and scarce may\n",
      "be distinguished, so incredible the truth, so conceivable the wildest\n",
      "conjecture. The Mecca to which turn the thoughts of every Celestial.\n",
      "The home of the sacred, almost legendary, Emperor, whose word is law\n",
      "to the uttermost confines of the land, and yet whose person is not\n",
      "inviolate against palace intrigue; omnipotent in theory, powerless in\n",
      "reality, a ruler only in name. Worshipped by millions of his subjects,\n",
      "yet despised by the least among the mandarins of his court. The\n",
      "meanest eunuch in the Purple City is not more helpless than the monarch\n",
      "who boasts the proud title of Son of Heaven.\n",
      "\n"
     ]
    }
   ],
   "source": [
    "get_answers(search_engine, \"Sprache\", nbr_answers=10)"
   ]
  },
  {
   "cell_type": "markdown",
   "id": "806dd4ad-c853-402a-8e26-b2454fbdc015",
   "metadata": {},
   "source": [
    "### Machinegewehr"
   ]
  },
  {
   "cell_type": "code",
   "execution_count": 21,
   "id": "f03f7819-bf53-466f-919f-ed6ac4460f3f",
   "metadata": {},
   "outputs": [
    {
     "data": {
      "application/vnd.jupyter.widget-view+json": {
       "model_id": "f4b00211c2f1426b99f38a8fa60eaef3",
       "version_major": 2,
       "version_minor": 0
      },
      "text/plain": [
       "Batches:   0%|          | 0/1 [00:00<?, ?it/s]"
      ]
     },
     "metadata": {},
     "output_type": "display_data"
    },
    {
     "name": "stdout",
     "output_type": "stream",
     "text": [
      "0 Comme armes, toutes les nations, excepté les Français et les Japonais, avaient un fusil à chargeur. Les Allemands se plaisaient à nous faire admirer leur fusil nouveau modèle 1898 avec chargeur de cinq cartouches. La principale différence avec l'ancien modèle consiste dans l'éjection du chargeur qui se fait par le haut de la culasse mobile et non plus en dessous. Mais, d'après quelques sous-officiers allemands, cette arme ne satisfaisait pas encore les officiers et un nouveau modèle était déjà à l'étude. Les Allemands étaient pourvus de deux bicyclettes par compagnie. Loin de leur servir en colonne, elles les embarrassaient plutôt, car il ne faut pas songer à circuler à bicyclette sur les routes chinoises.\n",
      "\n",
      "1 Le casque colonial allemand avait, à l’arrière, un ressort qui permettait à cette partie de se relever et d’éviter ainsi le contact du havresac qui en effet gêne énormément, surtout lorsque le soldat est chargé d’une gamelle ou autre ustensile de campement.\n",
      "\n",
      "2 The German authorities are still faithful to the traditions of close\n",
      "formations and centralisation of command under fire. Unbroken lines in\n",
      "the attack are the rule, and no divergence from the straight, forward\n",
      "direction, in order to take advantage of cover lying towards a flank,\n",
      "is authorised. The increased destructive power given by low trajectory\n",
      "to modern firearms does not seem to be properly understood by them.\n",
      "The creeping forward of widely extended and irregularly advancing\n",
      "lines of skirmishers, seizing every cover available within easy reach,\n",
      "is not favoured; and the dread of the effect of cavalry charges on\n",
      "the flanks of such scattered formations still rules the tactics of\n",
      "the attack. The development of the initiative of the soldier, of\n",
      "his power of acting for himself under fire, is not striven after. In\n",
      "steady, mechanical drill the German private is still pre‐eminent, but\n",
      "in wide extensions he is helpless without someone at his elbow to give\n",
      "him orders. One of the Prussian General Staff—sent out as a Special\n",
      "Service Officer—argued seriously with me that even when advancing over\n",
      "open ground against an entrenched enemy armed with modern rifles, it\n",
      "would be impossible to extend to more than an interval of one pace, “as\n",
      "otherwise the captain could not command his company.”\n",
      "\n",
      "3 When visiting the Samchun Custom House on another occasion, at a later\n",
      "period, I saw a number of small, two‐pounder rifled breechloading\n",
      "guns belonging to Admiral Ho’s force being embarked on a war‐junk.\n",
      "I examined them with interest. They were mounted on small‐wheeled\n",
      "carriages and bore the stamp of the Chinese arsenal where they had been\n",
      "made. The breech ends were square, with a falling block worked by a\n",
      "lever at the side. They were well finished; for the work turned out at\n",
      "these arsenals by native workmen, often under European supervision, is\n",
      "generally very good.\n",
      "\n",
      "4   Navy, German, 40\n",
      "\n",
      "5 THE FULL PROJECT GUTENBERG LICENSE\n",
      "\n",
      "6   Hsi‐ku Arsenal, 30\n",
      "\n",
      "7   Chinese Arsenal at Tientsin, 15;\n",
      "    guns made at, 217\n",
      "\n",
      "8   _Terrible_, H.M.S., at Shanhaikwan, 155;\n",
      "    gunners, 25\n",
      "\n",
      "9   Allied Armies, men and methods of, 34\n",
      "\n"
     ]
    }
   ],
   "source": [
    "get_answers(search_engine, \"machinegewehr\", nbr_answers=10)"
   ]
  }
 ],
 "metadata": {
  "kernelspec": {
   "display_name": "Python 3 (ipykernel)",
   "language": "python",
   "name": "python3"
  },
  "language_info": {
   "codemirror_mode": {
    "name": "ipython",
    "version": 3
   },
   "file_extension": ".py",
   "mimetype": "text/x-python",
   "name": "python",
   "nbconvert_exporter": "python",
   "pygments_lexer": "ipython3",
   "version": "3.10.13"
  }
 },
 "nbformat": 4,
 "nbformat_minor": 5
}
